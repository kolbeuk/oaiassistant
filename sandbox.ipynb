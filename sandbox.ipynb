{
 "cells": [
  {
   "cell_type": "code",
   "execution_count": null,
   "id": "4ef05003-2cfc-47c9-9c3c-4180ef13c77e",
   "metadata": {},
   "outputs": [],
   "source": [
    "# Import the OpenAI library to interact with OpenAI's APIs.\n",
    "# Create an instance of the OpenAI client.\n",
    "import json\n",
    "from openai import OpenAI\n",
    "client = OpenAI()"
   ]
  },
  {
   "cell_type": "code",
   "execution_count": null,
   "id": "ccb19140-7b3a-4cd0-92a4-9c7d88f2f1c0",
   "metadata": {},
   "outputs": [],
   "source": [
    "# Example if we have a file with positive phrases or templates\n",
    "# Upload a file to be used with the Assistants API.\n",
    "# Open the file 'positive_phrases.csv' in read-binary mode.\n",
    "file = client.files.create(\n",
    "  file=open(\"positive_phrases.csv\", \"rb\"),\n",
    "\n",
    "  # Specify the purpose of the file as 'assistants' to indicate its use in the Assistants API.\n",
    "  purpose='assistants'\n",
    ")\n",
    "print(file.id)"
   ]
  },
  {
   "cell_type": "code",
   "execution_count": null,
   "id": "4ee6fb22-8ed9-4f96-a030-792505066072",
   "metadata": {},
   "outputs": [],
   "source": [
    "# Create an Assistant using the OpenAI client.\n",
    "# This assistant is specifically designed for transforming messages.\n",
    "assistant = client.beta.assistants.create(\n",
    "    # Name of the Assistant.\n",
    "    name=\"Uplifting Message Converter\",\n",
    "\n",
    "    # Description of what the Assistant does.\n",
    "    description=\"Transforms bland messages into positive, uplifting ones for team motivation.\",\n",
    "\n",
    "    # Here, \"gpt-4-1106-preview\" is used, which is a version of the GPT-4 model.\n",
    "    model=\"gpt-4-1106-preview\",\n",
    "\n",
    "    # List of tools enabled for the Assistant.\n",
    "    # In this case, only the \"code_interpreter\" tool is enabled.\n",
    "    tools=[{\"type\": \"code_interpreter\"}],\n",
    "    file_ids=[file.id]\n",
    ")\n",
    "print(assistant)"
   ]
  },
  {
   "cell_type": "code",
   "execution_count": null,
   "id": "023ef05f-7836-4e71-9127-b83d3353183f",
   "metadata": {},
   "outputs": [],
   "source": [
    "# Delete an existing Assistant using the OpenAI client.\n",
    "#response = client.beta.assistants.delete(assistant.id)\n",
    "#print(response)"
   ]
  },
  {
   "cell_type": "code",
   "execution_count": null,
   "id": "4ede3c99-c05f-402b-9df8-a471f787bf96",
   "metadata": {},
   "outputs": [],
   "source": [
    "# Create a new conversation thread using the OpenAI client.\n",
    "# This thread will be used for managing a series of messages within a conversation.\n",
    "thread = client.beta.threads.create()\n",
    "print(thread.id)"
   ]
  },
  {
   "cell_type": "code",
   "execution_count": null,
   "id": "0602340a-2e70-4b42-b107-7b19f0453f9b",
   "metadata": {},
   "outputs": [],
   "source": [
    "# Add a new message to the previously created conversation thread.\n",
    "message = client.beta.threads.messages.create(\n",
    "    # Specify the ID of the thread to which this message belongs.\n",
    "    thread_id=thread.id,\n",
    "    # Define the role of the message sender. In this case, it's from the 'user'.\n",
    "    role=\"user\",\n",
    "    # Content of the message.\n",
    "    content=\"I'm feeling unsure about meeting our targets this month.\",\n",
    "    file_ids=[file.id]\n",
    ")\n",
    "print(thread)\n",
    "print(message)"
   ]
  },
  {
   "cell_type": "code",
   "execution_count": null,
   "id": "92c84b54-3c8d-4d48-a653-d8eb697b75a0",
   "metadata": {},
   "outputs": [],
   "source": [
    "# Run the Assistant\n",
    "run = client.beta.threads.runs.create(\n",
    "    # Specify the ID of the thread that the run will process.\n",
    "    thread_id=thread.id,\n",
    "    # Provide the ID of the Assistant that will handle the thread.\n",
    "    assistant_id=assistant.id,\n",
    "    # Give specific instructions for this run.\n",
    "    instructions=\"Convert the message into a positive and uplifting one.\"\n",
    ")"
   ]
  },
  {
   "cell_type": "code",
   "execution_count": null,
   "id": "6451ce4f-4f86-4a55-a8f9-70b565ea4268",
   "metadata": {},
   "outputs": [],
   "source": [
    "print(run)"
   ]
  },
  {
   "cell_type": "code",
   "execution_count": null,
   "id": "272f463c-2798-4afc-b162-290c5b616563",
   "metadata": {},
   "outputs": [],
   "source": [
    "# Display the Assistant's Response\n",
    "messages = client.beta.threads.messages.list(\n",
    "  thread_id=thread.id\n",
    ")"
   ]
  },
  {
   "cell_type": "code",
   "execution_count": null,
   "id": "10058d9a-f532-4664-afec-55f6e502e84b",
   "metadata": {},
   "outputs": [],
   "source": [
    "# Assuming 'messages' is the object containing the thread messages\n",
    "for message in messages.data:\n",
    "    # Print the details of each message\n",
    "    print(\"ID:\", message.id)\n",
    "    print(\"Object Type:\", message.object)\n",
    "    print(\"Created At:\", message.created_at)\n",
    "    print(\"Thread ID:\", message.thread_id)\n",
    "    print(\"Role:\", message.role)\n",
    "\n",
    "    # Print the content of the message\n",
    "    for content in message.content:\n",
    "        if content.type == \"text\":\n",
    "            print(\"Content:\", content.text.value)\n",
    "\n",
    "    # Print file IDs, if any\n",
    "    print(\"File IDs:\", message.file_ids)\n",
    "\n",
    "    # Print the Assistant ID\n",
    "    print(\"Assistant ID:\", message.assistant_id)\n",
    "\n",
    "    # Print the Run ID\n",
    "    print(\"Run ID:\", message.run_id)\n",
    "\n",
    "    # Print any metadata\n",
    "    print(\"Metadata:\", message.metadata)\n",
    "\n",
    "    print(\"\\n----------------------------------------\\n\")"
   ]
  },
  {
   "cell_type": "code",
   "execution_count": null,
   "id": "7c6661fa-4246-478b-bd26-3a581797d57f",
   "metadata": {},
   "outputs": [],
   "source": []
  }
 ],
 "metadata": {
  "kernelspec": {
   "display_name": "Python 3 (ipykernel)",
   "language": "python",
   "name": "python3"
  },
  "language_info": {
   "codemirror_mode": {
    "name": "ipython",
    "version": 3
   },
   "file_extension": ".py",
   "mimetype": "text/x-python",
   "name": "python",
   "nbconvert_exporter": "python",
   "pygments_lexer": "ipython3",
   "version": "3.11.6"
  }
 },
 "nbformat": 4,
 "nbformat_minor": 5
}
