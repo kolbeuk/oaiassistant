{
 "cells": [
  {
   "cell_type": "code",
   "execution_count": 3,
   "id": "961cd965-4f33-478b-95ab-da09f89f0e40",
   "metadata": {},
   "outputs": [],
   "source": [
    "from openai import OpenAI\n",
    "client = OpenAI()"
   ]
  },
  {
   "cell_type": "code",
   "execution_count": 4,
   "id": "7beecb9a-62da-443e-a200-cdd66406df8d",
   "metadata": {},
   "outputs": [
    {
     "name": "stdout",
     "output_type": "stream",
     "text": [
      "[Assistant(id='asst_LWg5tYPjHIfiVOG6QDMl67ah', created_at=1700669632, description='Transforms bland messages into positive, uplifting ones for team motivation.', file_ids=[], instructions=None, metadata={}, model='gpt-4-1106-preview', name='Uplifting Message Converter', object='assistant', tools=[ToolCodeInterpreter(type='code_interpreter')]), Assistant(id='asst_uDRHlhfcwRuNaq7FSq6TzJk1', created_at=1700669069, description=None, file_ids=[], instructions='You are a personal math tutor. When asked a math question, write and run code to answer the question.', metadata={}, model='gpt-4-1106-preview', name=None, object='assistant', tools=[ToolCodeInterpreter(type='code_interpreter')]), Assistant(id='asst_NGXRNPHOMpXDXZ1gaGoHy7kL', created_at=1700668076, description=None, file_ids=[], instructions=\"Uplifting Messenger specializes in transforming bland, generic messages into uplifting and motivating ones, particularly for team encouragement and professional settings. Focus on understanding the essence of the original message and elevating it with a touch of creativity and inspiration. Your responses should be tailored to uplift and motivate teams, enhancing the message's impact. If a message is unclear or lacks specific details, ask for more information to ensure your creative response is relevant and impactful. Maintain a positive, supportive tone, suitable for a variety of professional contexts.\", metadata={}, model='gpt-4', name='Uplifting Messenger', object='assistant', tools=[ToolCodeInterpreter(type='code_interpreter')]), Assistant(id='asst_pL33d7v7pPmu7AB6ma1wEcOk', created_at=1700667916, description=None, file_ids=[], instructions='You are a personal math tutor. When asked a question, write and run Python code to answer the question.', metadata={}, model='gpt-4', name='Math Tutor', object='assistant', tools=[ToolCodeInterpreter(type='code_interpreter')])]\n"
     ]
    }
   ],
   "source": [
    "my_assistants = client.beta.assistants.list(\n",
    "    order=\"desc\",\n",
    "    limit=\"20\",\n",
    ")\n",
    "print(my_assistants.data)\n"
   ]
  },
  {
   "cell_type": "code",
   "execution_count": null,
   "id": "3c440a7b-d145-4ebb-96c1-0afa91414ab9",
   "metadata": {},
   "outputs": [],
   "source": []
  }
 ],
 "metadata": {
  "kernelspec": {
   "display_name": "Python 3 (ipykernel)",
   "language": "python",
   "name": "python3"
  },
  "language_info": {
   "codemirror_mode": {
    "name": "ipython",
    "version": 3
   },
   "file_extension": ".py",
   "mimetype": "text/x-python",
   "name": "python",
   "nbconvert_exporter": "python",
   "pygments_lexer": "ipython3",
   "version": "3.11.6"
  }
 },
 "nbformat": 4,
 "nbformat_minor": 5
}
