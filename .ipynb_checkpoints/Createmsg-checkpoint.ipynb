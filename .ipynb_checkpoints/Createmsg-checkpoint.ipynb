{
 "cells": [
  {
   "cell_type": "code",
   "execution_count": 2,
   "id": "56752d6b-76d4-424c-8a14-2937810bcf7c",
   "metadata": {},
   "outputs": [],
   "source": [
    "import openai\n",
    "from openai import OpenAI\n",
    "client = OpenAI()"
   ]
  },
  {
   "cell_type": "code",
   "execution_count": 6,
   "id": "c7fa2618-1f87-4c61-8726-57b2bd5e093d",
   "metadata": {},
   "outputs": [
    {
     "name": "stdout",
     "output_type": "stream",
     "text": [
      "Assistant(id='asst_NGXRNPHOMpXDXZ1gaGoHy7kL', created_at=1700668076, description=None, file_ids=[], instructions=\"Uplifting Messenger specializes in transforming bland, generic messages into uplifting and motivating ones, particularly for team encouragement and professional settings. Focus on understanding the essence of the original message and elevating it with a touch of creativity and inspiration. Your responses should be tailored to uplift and motivate teams, enhancing the message's impact. If a message is unclear or lacks specific details, ask for more information to ensure your creative response is relevant and impactful. Maintain a positive, supportive tone, suitable for a variety of professional contexts.\", metadata={}, model='gpt-4', name='Uplifting Messenger', object='assistant', tools=[ToolCodeInterpreter(type='code_interpreter')])\n"
     ]
    }
   ],
   "source": [
    "\n",
    "my_assistant = client.beta.assistants.create(\n",
    "    instructions=\"Uplifting Messenger specializes in transforming bland, generic messages into uplifting and motivating ones, particularly for team encouragement and professional settings. Focus on understanding the essence of the original message and elevating it with a touch of creativity and inspiration. Your responses should be tailored to uplift and motivate teams, enhancing the message's impact. If a message is unclear or lacks specific details, ask for more information to ensure your creative response is relevant and impactful. Maintain a positive, supportive tone, suitable for a variety of professional contexts.\",\n",
    "    name=\"Uplifting Messenger\",\n",
    "    tools=[{\"type\": \"code_interpreter\"}],\n",
    "    model=\"gpt-4\"\n",
    "    )\n",
    "print(my_assistant)\n"
   ]
  },
  {
   "cell_type": "code",
   "execution_count": null,
   "id": "e50220fa-e112-4363-94cc-35653234e657",
   "metadata": {},
   "outputs": [],
   "source": []
  }
 ],
 "metadata": {
  "kernelspec": {
   "display_name": "Python 3 (ipykernel)",
   "language": "python",
   "name": "python3"
  },
  "language_info": {
   "codemirror_mode": {
    "name": "ipython",
    "version": 3
   },
   "file_extension": ".py",
   "mimetype": "text/x-python",
   "name": "python",
   "nbconvert_exporter": "python",
   "pygments_lexer": "ipython3",
   "version": "3.11.6"
  }
 },
 "nbformat": 4,
 "nbformat_minor": 5
}
